{
 "cells": [
  {
   "cell_type": "markdown",
   "metadata": {},
   "source": [
    "1. Explain the different types of data (qualitative and quantitative) and provide examples of each. Discuss nominal, ordinal, interval, and ratio scales."
   ]
  },
  {
   "cell_type": "markdown",
   "metadata": {},
   "source": [
    "## Types of Data:\n",
    "\n",
    "1. Qualitative (Categorical):\n",
    "\n",
    "Describes categories or qualities.\n",
    "Examples: Colors (red, blue), gender (male, female).\n",
    "\n",
    "\n",
    "2. Quantitative (Numerical):\n",
    "\n",
    "Represents numeric measurements.\n",
    "Examples: Age (23 years), height (5.6 feet).\n",
    "\n",
    "\n",
    "## Scales of Measurement:\n",
    "1. Nominal Scale:\n",
    "\n",
    "Categorical without order.\n",
    "Example: Blood group (A, B, O).\n",
    "\n",
    "\n",
    "2. Ordinal Scale:\n",
    "\n",
    "Categorical with a meaningful order but no fixed intervals.\n",
    "Example: Movie ratings (poor, fair, excellent).\n",
    "\n",
    "\n",
    "3. Interval Scale:\n",
    "\n",
    "Quantitative with equal intervals, no true zero.\n",
    "Example: Temperature in Celsius.\n",
    "Ratio Scale:\n",
    "\n",
    "Quantitative with a true zero.\n",
    "Example: Weight (0 kg means no weight).\n"
   ]
  },
  {
   "cell_type": "markdown",
   "metadata": {},
   "source": []
  },
  {
   "cell_type": "markdown",
   "metadata": {},
   "source": []
  },
  {
   "cell_type": "markdown",
   "metadata": {},
   "source": [
    "2. What are the measures of central tendency, and when should you use each?"
   ]
  },
  {
   "cell_type": "markdown",
   "metadata": {},
   "source": [
    "## Measures of Central Tendency:\n",
    "\n",
    "1. Mean:\n",
    "   * The average value.\n",
    "   * Best for symmetric data without outliers.\n",
    "   * Example: Average test scores.\n",
    "\n",
    "\n",
    "2. Median:\n",
    "   * The middle value in ordered data.\n",
    "   * Best for skewed distributions or data with outliers.\n",
    "   * Example: Median income in a population.\n",
    "\n",
    "\n",
    "3. Mode:\n",
    "   * Most frequently occurring value.\n",
    "   * Best for categorical data or multimodal distributions.\n",
    "   * Example: Most common shoe size in a store.\n"
   ]
  },
  {
   "cell_type": "markdown",
   "metadata": {},
   "source": []
  },
  {
   "cell_type": "markdown",
   "metadata": {},
   "source": []
  },
  {
   "cell_type": "markdown",
   "metadata": {},
   "source": []
  },
  {
   "cell_type": "markdown",
   "metadata": {},
   "source": []
  },
  {
   "cell_type": "markdown",
   "metadata": {},
   "source": []
  },
  {
   "cell_type": "markdown",
   "metadata": {},
   "source": [
    "3. Explain the concept of dispersion. How do variance and standard deviation measure the spread of data?"
   ]
  },
  {
   "cell_type": "markdown",
   "metadata": {},
   "source": [
    "## Dispersion:\n",
    "\n",
    "   * Measures the spread or variability in a dataset.\n",
    "   * Indicates how much the data deviates from the mean.\n",
    "\n",
    "\n",
    "## Variance (σ²):\n",
    "\n",
    "   * Average of the squared differences from the mean.\n",
    "   * Sensitive to outliers.\n",
    "\n",
    "\n",
    "## Standard Deviation (𝜎):\n",
    "\n",
    "    * Square root of variance.\n",
    "    * Represents spread in the same units as the data."
   ]
  },
  {
   "cell_type": "markdown",
   "metadata": {},
   "source": []
  },
  {
   "cell_type": "markdown",
   "metadata": {},
   "source": [
    "4. What is a box plot, and what can it tell you about the distribution of data?"
   ]
  },
  {
   "cell_type": "markdown",
   "metadata": {},
   "source": [
    "## Box Plot:\n",
    "\n",
    "* A graphical summary of data distribution using:\n",
    "    * Minimum, maximum.\n",
    "    * Quartiles(Q1,Q2,Q3).\n",
    "    * Outliers.\n",
    "\n",
    "\n",
    "## Insights:\n",
    "\n",
    "    * Median (central tendency).\n",
    "    * Spread (IQR).\n",
    "    * Skewness and presence of outliers."
   ]
  },
  {
   "cell_type": "markdown",
   "metadata": {},
   "source": []
  },
  {
   "cell_type": "markdown",
   "metadata": {},
   "source": [
    "5. Discuss the role of random sampling in making inferences about populations."
   ]
  },
  {
   "cell_type": "markdown",
   "metadata": {},
   "source": [
    "## Role of Random Sampling:\n",
    "\n",
    "    * Ensures equal probability of selection.\n",
    "\n",
    "\n",
    "    * Minimizes bias.\n",
    "\n",
    "\n",
    "    * Allows generalization of sample statistics to population parameters.\n",
    "\n",
    "\n",
    "    * Facilitates reliable hypothesis testing."
   ]
  },
  {
   "cell_type": "markdown",
   "metadata": {},
   "source": []
  },
  {
   "cell_type": "markdown",
   "metadata": {},
   "source": [
    "6. Explain the concept of skewness and its types. How does skewness affect the interpretation of data?"
   ]
  },
  {
   "cell_type": "markdown",
   "metadata": {},
   "source": [
    "## Skewness:\n",
    "\n",
    "    * Measures asymmetry of data distribution.\n",
    "\n",
    "\n",
    "## Types:\n",
    "\n",
    "Positive Skew: Right tail longer.\n",
    "Negative Skew: Left tail longer.\n",
    "No Skew: Symmetric.\n",
    "\n",
    "\n",
    "## Effect:\n",
    "\n",
    "Influences the representativeness of the mean as a measure of central tendency."
   ]
  },
  {
   "cell_type": "markdown",
   "metadata": {},
   "source": []
  },
  {
   "cell_type": "markdown",
   "metadata": {},
   "source": [
    "7. What is the interquartile range (IQR), and how is it used to detect outliers?"
   ]
  },
  {
   "cell_type": "markdown",
   "metadata": {},
   "source": [
    "IQR: Range of the middle 50% of data:\n",
    "\n",
    "\n",
    "IQR=Q3−Q1\n",
    "\n",
    "\n",
    "## Detecting Outliers:\n",
    "\n",
    "    * Lower Bound: Q1 - 1.5 * IQR.\n",
    "\n",
    "\n",
    "    * Upper Bound: Q3+1.5×IQR.\n",
    "\n",
    "\n",
    "    *Points beyond these bounds are outliers."
   ]
  },
  {
   "cell_type": "markdown",
   "metadata": {},
   "source": []
  },
  {
   "cell_type": "markdown",
   "metadata": {},
   "source": [
    "8. Discuss the conditions under which the binomial distribution is used.\n",
    "Conditions for Binomial Distribution."
   ]
  },
  {
   "cell_type": "markdown",
   "metadata": {},
   "source": [
    "## Conditions for Binomial Distribution:\n",
    "\n",
    "     1.Fixed number of trials (𝑛).\n",
    "\n",
    "\n",
    "\n",
    "    2.Binary outcomes (success/failure).\n",
    "\n",
    "\n",
    "\n",
    "    3.Independent trials.\n",
    "\n",
    "\n",
    "\n",
    "    4.Constant probability of success (p)."
   ]
  },
  {
   "cell_type": "markdown",
   "metadata": {},
   "source": []
  },
  {
   "cell_type": "markdown",
   "metadata": {},
   "source": [
    "9. Explain the properties of the normal distribution and the empirical rule (68-95-99.7 rule)."
   ]
  },
  {
   "cell_type": "markdown",
   "metadata": {},
   "source": [
    "## Normal Distribution:\n",
    "\n",
    "    * Symmetric, bell-shaped curve.\n",
    "    * Defined by mean (𝜇) and standard deviation (σ).\n",
    "\n",
    "\n",
    "## Empirical Rule:\n",
    "\n",
    "    1. 68% of data within μ±σ.\n",
    "\n",
    "    2. 95% of data within μ±2σ.\n",
    "\n",
    "    3.99.7% of data within μ±3σ."
   ]
  },
  {
   "cell_type": "markdown",
   "metadata": {},
   "source": []
  },
  {
   "cell_type": "markdown",
   "metadata": {},
   "source": [
    "10. Provide a real-life example of a Poisson process and calculate the probability for a specific event."
   ]
  },
  {
   "cell_type": "markdown",
   "metadata": {},
   "source": [
    "Real-Life Example of a Poisson Process:\n",
    "\n",
    "A helpdesk receives an average of 3 calls per hour (λ=3). What is the probability of receiving exactly 4 calls in an hour?\n",
    "\n",
    "Formula for Poisson Probability:\n",
    "\n",
    "𝑃(𝑋=𝑘) =   𝑒−𝜆𝑘\n",
    "            𝑘!\n",
    " \n",
    "\n",
    "Where:\n",
    "\n",
    "    * k=4 (number of calls),\n",
    "\n",
    "    * λ=3 (average calls per hour),\n",
    "\n",
    "    * e≈2.718 (Euler's number).\n",
    "\n",
    "\n",
    "Calculation:\n",
    "\n",
    "1. Substitute the values into the formula:\n",
    "\n",
    "\n",
    "P(X=4)= e −3 ⋅3 4\n",
    "            4!\n",
    " \n",
    "​\n",
    " \n",
    "2. Calculate step-by-step:\n",
    "\n",
    "    * 𝑒−3≈0.0498,\n",
    "\n",
    "\n",
    "    * 3 4=81,\n",
    "\n",
    "    * 4!=4⋅3⋅2⋅1=24.\n",
    "\n",
    "\n",
    "3.Plug these values in:\n",
    "\n",
    "        P(X=4) = 0.0498⋅81\n",
    "                    24\n",
    "\n",
    "​\n",
    " \n",
    "4.Simplify:\n",
    "\n",
    "        P(X=4)= 4.0338   ≈0.168\n",
    "                 24\n",
    "\n",
    "​\n",
    " \n",
    "Answer: The probability of receiving exactly 4 calls in an hour is approximately 16.8%"
   ]
  },
  {
   "cell_type": "markdown",
   "metadata": {},
   "source": []
  },
  {
   "cell_type": "markdown",
   "metadata": {},
   "source": [
    "11. Explain what a random variable is and differentiate between discrete and continuous random variables."
   ]
  },
  {
   "cell_type": "markdown",
   "metadata": {},
   "source": [
    "A random variable is a variable that assigns numerical values to the outcomes of a random process or experiment. It represents the possible outcomes of a random phenomenon in a mathematical way.\n",
    "\n",
    "\n",
    "Example: Tossing a coin:\n",
    "If X is the number of heads, \n",
    "X can be 0 (no heads) or 1 (one head).\n",
    "\n",
    "\n",
    "## Types of Random Variables\n",
    "\n",
    "\n",
    "    1.Discrete Random Variable:\n",
    "\n",
    "Takes specific, countable values.\n",
    "\n",
    "Examples:\n",
    "\n",
    "    * Number of heads in 10 coin tosses (𝑋=0,1,2,...,10\n",
    "\n",
    "    * Number of students in a class (X=0,1,2,…).\n",
    "\n",
    "\n",
    "\n",
    "    * Key Feature: Gaps exist between possible values.\n",
    "\n",
    "\n",
    "    2.Continuous Random Variable:\n",
    "\n",
    "    * Takes any value within a range or interval.\n",
    "\n",
    "    * Examples:\n",
    "        * Height of students (e.g.,X=160.5cm).\n",
    "        * Temperature of a city (e.g., X=25.3 ∘C).\n",
    "        * Key Feature: Infinite possible values within a range (no gaps).\n",
    "\n",
    "\n",
    "\n",
    "## Summary\n",
    "\n",
    "\n",
    "A random variable is the backbone of probability and statistics, bridging abstract probability concepts with numerical outcomes. Discrete random variables focus on countable outcomes, while continuous random variables capture measurements on a continuum."
   ]
  },
  {
   "cell_type": "markdown",
   "metadata": {},
   "source": []
  },
  {
   "cell_type": "markdown",
   "metadata": {},
   "source": [
    "12. Provide an example dataset, calculate both covariance and correlation, and interpret the results."
   ]
  },
  {
   "cell_type": "markdown",
   "metadata": {},
   "source": [
    "Dataset:\n",
    "\n",
    "\n",
    "\n",
    "X\tY\n",
    "1\t3\n",
    "2\t6\n",
    "3\t9\n",
    "\n",
    "\n",
    "\n",
    "1. Covariance: Measures the direction of linear relationship.\n",
    "\n",
    "    Cov(𝑋,𝑌)   =  ∑(𝑋𝑖−𝑋ˉ)(𝑌𝑖−𝑌ˉ)\n",
    "                    𝑛−1\n",
    "​\n",
    "\n",
    "2. Correlation: Standardized covariance (ranges between -1 and 1).\n",
    "\n",
    "    Corr(𝑋,𝑌)  =  Cov(𝑋,𝑌)\n",
    "                    𝜎𝑋𝜎𝑌\n",
    "​\n",
    " \n",
    "\n",
    "​\n",
    " \n",
    "## Interpretation:\n",
    "\n",
    "    * Covariance > 0: Positive relationship.\n",
    "\n",
    "\n",
    "    * Correlation = 1: Perfect linear relationship."
   ]
  },
  {
   "cell_type": "markdown",
   "metadata": {},
   "source": []
  },
  {
   "cell_type": "markdown",
   "metadata": {},
   "source": []
  },
  {
   "cell_type": "markdown",
   "metadata": {},
   "source": []
  }
 ],
 "metadata": {
  "language_info": {
   "name": "python"
  }
 },
 "nbformat": 4,
 "nbformat_minor": 2
}
